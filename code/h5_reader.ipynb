{
 "cells": [
  {
   "cell_type": "code",
   "execution_count": 1,
   "id": "0f8e9f48-267b-43d9-8618-ea55a132985e",
   "metadata": {},
   "outputs": [],
   "source": [
    "import h5py\n",
    "filename = \"./depletion_results.h5\"\n",
    "h5 = h5py.File(filename,'r')"
   ]
  },
  {
   "cell_type": "code",
   "execution_count": 2,
   "id": "601d864b-2391-4453-8600-8917ab2efef6",
   "metadata": {},
   "outputs": [
    {
     "data": {
      "text/plain": [
       "['depletion time',\n",
       " 'eigenvalues',\n",
       " 'materials',\n",
       " 'nuclides',\n",
       " 'number',\n",
       " 'reaction rates',\n",
       " 'reactions',\n",
       " 'source_rate',\n",
       " 'time']"
      ]
     },
     "execution_count": 2,
     "metadata": {},
     "output_type": "execute_result"
    }
   ],
   "source": [
    "list(h5.keys())"
   ]
  },
  {
   "cell_type": "code",
   "execution_count": 16,
   "id": "6fa6fa94-c1e5-4ac5-805e-eeb91c127b99",
   "metadata": {},
   "outputs": [
    {
     "data": {
      "text/plain": [
       "['10']"
      ]
     },
     "execution_count": 16,
     "metadata": {},
     "output_type": "execute_result"
    }
   ],
   "source": [
    "group = h5['materials'] #this is a group, need to list the keys\n",
    "list(group.keys())"
   ]
  },
  {
   "cell_type": "raw",
   "id": "2adf926d-7cb3-4147-94e0-2151a9d6bb3c",
   "metadata": {},
   "source": [
    "n = group['10']"
   ]
  },
  {
   "cell_type": "code",
   "execution_count": 53,
   "id": "312118ff-0a74-447d-8eec-63c421af61c0",
   "metadata": {},
   "outputs": [
    {
     "data": {
      "text/plain": [
       "array([233.0248  , 234.0178  , 236.9986  ,  11.89365 ,  12.89165 ,\n",
       "        27.737   ,  28.728   ,  29.716   ,  13.88278 ,  14.871   ,\n",
       "        15.85751 ,  16.8531  ,  17.8445  ,  35.6585  ,  37.6366  ,\n",
       "        39.6191  ,   9.926921,  10.9147  ,  30.708   ,  31.6973  ,\n",
       "        32.6878  ,  33.6762  ,  35.658   ,  49.517   ,  51.494   ,\n",
       "        52.486   ,  53.476   ,  54.4661  ,  53.47624 ,  55.45443 ,\n",
       "        56.44629 ,  57.4356  ,  57.438   ,  59.416   ,  60.408   ,\n",
       "        61.396   ,  63.379   ])"
      ]
     },
     "execution_count": 53,
     "metadata": {},
     "output_type": "execute_result"
    }
   ],
   "source": [
    "m = group['awrs']\n",
    "m[...]"
   ]
  },
  {
   "cell_type": "code",
   "execution_count": 17,
   "id": "6bdb5a79-cee2-47f6-9332-2848fe67b0ef",
   "metadata": {},
   "outputs": [
    {
     "data": {
      "text/plain": [
       "['10']"
      ]
     },
     "execution_count": 17,
     "metadata": {},
     "output_type": "execute_result"
    }
   ],
   "source": [
    "#looking at the other files now\n",
    "mats = h5['materials'] #not a dataset\n",
    "list(mats.keys())"
   ]
  },
  {
   "cell_type": "code",
   "execution_count": 48,
   "id": "3db55f52-9a9c-43a8-b972-8639cd2ea49f",
   "metadata": {},
   "outputs": [
    {
     "data": {
      "text/plain": [
       "['atom_density', 'name', 'nuclide_densities', 'nuclides']"
      ]
     },
     "execution_count": 48,
     "metadata": {},
     "output_type": "execute_result"
    }
   ],
   "source": []
  },
  {
   "cell_type": "code",
   "execution_count": null,
   "id": "9d94e4ec-8bdb-44b8-a031-5232f0aaa6c9",
   "metadata": {},
   "outputs": [],
   "source": []
  }
 ],
 "metadata": {
  "kernelspec": {
   "display_name": "Python 3 (ipykernel)",
   "language": "python",
   "name": "python3"
  },
  "language_info": {
   "codemirror_mode": {
    "name": "ipython",
    "version": 3
   },
   "file_extension": ".py",
   "mimetype": "text/x-python",
   "name": "python",
   "nbconvert_exporter": "python",
   "pygments_lexer": "ipython3",
   "version": "3.12.8"
  }
 },
 "nbformat": 4,
 "nbformat_minor": 5
}
