{
 "cells": [
  {
   "cell_type": "code",
   "execution_count": 13,
   "id": "0f8e9f48-267b-43d9-8618-ea55a132985e",
   "metadata": {},
   "outputs": [],
   "source": [
    "import h5py\n",
    "filename = \"./depletion_results.h5\"\n",
    "h5 = h5py.File(filename,'r')"
   ]
  },
  {
   "cell_type": "code",
   "execution_count": 14,
   "id": "601d864b-2391-4453-8600-8917ab2efef6",
   "metadata": {},
   "outputs": [
    {
     "data": {
      "text/plain": [
       "['depletion time',\n",
       " 'eigenvalues',\n",
       " 'materials',\n",
       " 'nuclides',\n",
       " 'number',\n",
       " 'reaction rates',\n",
       " 'reactions',\n",
       " 'source_rate',\n",
       " 'time']"
      ]
     },
     "execution_count": 14,
     "metadata": {},
     "output_type": "execute_result"
    }
   ],
   "source": [
    "list(h5.keys())"
   ]
  },
  {
   "cell_type": "code",
   "execution_count": 23,
   "id": "6fa6fa94-c1e5-4ac5-805e-eeb91c127b99",
   "metadata": {},
   "outputs": [
    {
     "data": {
      "text/plain": [
       "array([[[[ 0.00000000e+00,  0.00000000e+00,  3.06325632e+17, ...,\n",
       "           0.00000000e+00,  0.00000000e+00,  0.00000000e+00]],\n",
       "\n",
       "        [[-5.15770203e+02,  0.00000000e+00,  3.06302040e+17, ...,\n",
       "           0.00000000e+00,  0.00000000e+00,  0.00000000e+00]]],\n",
       "\n",
       "\n",
       "       [[[ 4.04721459e+02,  0.00000000e+00,  3.06278450e+17, ...,\n",
       "           0.00000000e+00,  0.00000000e+00,  0.00000000e+00]],\n",
       "\n",
       "        [[ 1.66200524e+02,  0.00000000e+00,  3.06254862e+17, ...,\n",
       "           0.00000000e+00,  0.00000000e+00,  0.00000000e+00]]],\n",
       "\n",
       "\n",
       "       [[[ 7.35136833e+02,  0.00000000e+00,  3.06231275e+17, ...,\n",
       "           0.00000000e+00,  0.00000000e+00,  0.00000000e+00]],\n",
       "\n",
       "        [[ 0.00000000e+00,  0.00000000e+00,  0.00000000e+00, ...,\n",
       "           0.00000000e+00,  0.00000000e+00,  0.00000000e+00]]]],\n",
       "      shape=(3, 2, 1, 3819))"
      ]
     },
     "execution_count": 23,
     "metadata": {},
     "output_type": "execute_result"
    }
   ],
   "source": [
    "group = h5['number'] #this is a group, need to list the keys\n",
    "#list(group.keys())\n",
    "group[...]"
   ]
  },
  {
   "cell_type": "code",
   "execution_count": 12,
   "id": "294a72c7-8a5f-4983-8e16-efde1210f568",
   "metadata": {},
   "outputs": [
    {
     "data": {
      "text/plain": [
       "array([b'H3', b'He3', b'He4', b'Li6', b'Li7', b'Be9', b'B10', b'B11',\n",
       "       b'C12', b'C13', b'N14', b'N15', b'O16', b'O17', b'Ca46', b'Ca48',\n",
       "       b'Ti47', b'Ti48', b'Ti49', b'Ti50', b'Cr52', b'Cr53', b'Cr54',\n",
       "       b'Mn55', b'Fe56', b'Fe57', b'Fe58', b'Co58', b'Co59', b'Ni60',\n",
       "       b'Ni61', b'Ni62', b'Ni64', b'Cu63', b'Cu65', b'Ge70', b'Ge72',\n",
       "       b'Ge73', b'Ge74', b'Ge76', b'As75', b'Se74', b'Se76', b'Se77',\n",
       "       b'Se78', b'Se79', b'Se80', b'Se82', b'Br79', b'Br81', b'Kr80',\n",
       "       b'Kr82', b'Kr83', b'Kr84', b'Kr85', b'Kr86', b'Rb85', b'Rb86',\n",
       "       b'Rb87', b'Sr84', b'Sr86', b'Sr87', b'Sr88', b'Sr89', b'Sr90',\n",
       "       b'Y89', b'Y90', b'Y91', b'Zr90', b'Zr91', b'Zr92', b'Zr93',\n",
       "       b'Zr94', b'Zr95', b'Zr96', b'Nb93', b'Nb94', b'Nb95', b'Mo94',\n",
       "       b'Mo95', b'Mo96', b'Mo97', b'Mo98', b'Mo99', b'Mo100', b'Tc99',\n",
       "       b'Ru98', b'Ru99', b'Ru100', b'Ru101', b'Ru102', b'Ru103', b'Ru104',\n",
       "       b'Ru105', b'Ru106', b'Rh103', b'Rh105', b'Pd104', b'Pd105',\n",
       "       b'Pd106', b'Pd107', b'Pd108', b'Pd110', b'Ag107', b'Ag109',\n",
       "       b'Ag111', b'Cd108', b'Cd110', b'Cd111', b'Cd112', b'Cd113',\n",
       "       b'Cd114', b'Cd116', b'In113', b'In115', b'Sn112', b'Sn114',\n",
       "       b'Sn115', b'Sn116', b'Sn117', b'Sn118', b'Sn119', b'Sn120',\n",
       "       b'Sn122', b'Sn123', b'Sn124', b'Sn125', b'Sn126', b'Sb121',\n",
       "       b'Sb123', b'Sb124', b'Sb125', b'Sb126', b'Te122', b'Te123',\n",
       "       b'Te124', b'Te125', b'Te126', b'Te128', b'Te130', b'Te132',\n",
       "       b'I127', b'I129', b'I130', b'I131', b'I135', b'Xe126', b'Xe128',\n",
       "       b'Xe129', b'Xe130', b'Xe131', b'Xe132', b'Xe133', b'Xe134',\n",
       "       b'Xe135', b'Xe136', b'Cs133', b'Cs134', b'Cs135', b'Cs136',\n",
       "       b'Cs137', b'Ba132', b'Ba134', b'Ba135', b'Ba136', b'Ba137',\n",
       "       b'Ba138', b'Ba140', b'La138', b'La139', b'La140', b'Ce140',\n",
       "       b'Ce141', b'Ce142', b'Ce143', b'Ce144', b'Pr141', b'Pr142',\n",
       "       b'Pr143', b'Nd142', b'Nd143', b'Nd144', b'Nd145', b'Nd146',\n",
       "       b'Nd147', b'Nd148', b'Nd150', b'Pm147', b'Pm148', b'Pm149',\n",
       "       b'Pm151', b'Sm147', b'Sm148', b'Sm149', b'Sm150', b'Sm151',\n",
       "       b'Sm152', b'Sm153', b'Sm154', b'Eu151', b'Eu152', b'Eu153',\n",
       "       b'Eu154', b'Eu155', b'Eu156', b'Eu157', b'Gd152', b'Gd154',\n",
       "       b'Gd155', b'Gd156', b'Gd157', b'Gd158', b'Gd160', b'Tb159',\n",
       "       b'Tb160', b'Dy160', b'Dy161', b'Dy162', b'Dy163', b'Dy164',\n",
       "       b'Ho165', b'Er162', b'Er164', b'Er166', b'Er167', b'Er168',\n",
       "       b'Er170', b'Lu175', b'Lu176', b'Hf174', b'Hf176', b'Hf177',\n",
       "       b'Hf178', b'Hf179', b'Hf180', b'Ta181', b'Ta182', b'W182', b'W183',\n",
       "       b'W184', b'W186', b'Re185', b'Re187', b'Ir191', b'Ir193', b'Pb206',\n",
       "       b'Pb207', b'Pb208', b'Bi209', b'Ra223', b'Ra224', b'Ra225',\n",
       "       b'Ra226', b'Ac225', b'Ac226', b'Ac227', b'Th227', b'Th228',\n",
       "       b'Th229', b'Th230', b'Th232', b'Th234', b'Pa231', b'Pa232',\n",
       "       b'Pa233', b'U232', b'U233', b'U234', b'U235', b'U236', b'U237',\n",
       "       b'U238', b'Np235', b'Np236', b'Np237', b'Np238', b'Np239',\n",
       "       b'Pu236', b'Pu237', b'Pu238', b'Pu239', b'Pu240', b'Pu241',\n",
       "       b'Pu242', b'Pu243', b'Pu244', b'Pu246', b'Am241', b'Am242',\n",
       "       b'Am243', b'Am244', b'Cm240', b'Cm241', b'Cm242', b'Cm243',\n",
       "       b'Cm244', b'Cm245', b'Cm246', b'Cm247', b'Cm248', b'Cm249',\n",
       "       b'Cm250', b'Bk249', b'Cf249', b'Cf251', b'Si28', b'Si29', b'Si30',\n",
       "       b'O18', b'Ar36', b'Ar38', b'Ar40', b'P31', b'S32', b'S33', b'S34',\n",
       "       b'S36', b'Cr50', b'Fe54', b'Ni58', b'H1', b'H2', b'Mo92'],\n",
       "      dtype='|S6')"
      ]
     },
     "execution_count": 12,
     "metadata": {},
     "output_type": "execute_result"
    }
   ],
   "source": [
    "n = group['names']\n",
    "n[...]"
   ]
  },
  {
   "cell_type": "code",
   "execution_count": 53,
   "id": "312118ff-0a74-447d-8eec-63c421af61c0",
   "metadata": {},
   "outputs": [
    {
     "data": {
      "text/plain": [
       "array([233.0248  , 234.0178  , 236.9986  ,  11.89365 ,  12.89165 ,\n",
       "        27.737   ,  28.728   ,  29.716   ,  13.88278 ,  14.871   ,\n",
       "        15.85751 ,  16.8531  ,  17.8445  ,  35.6585  ,  37.6366  ,\n",
       "        39.6191  ,   9.926921,  10.9147  ,  30.708   ,  31.6973  ,\n",
       "        32.6878  ,  33.6762  ,  35.658   ,  49.517   ,  51.494   ,\n",
       "        52.486   ,  53.476   ,  54.4661  ,  53.47624 ,  55.45443 ,\n",
       "        56.44629 ,  57.4356  ,  57.438   ,  59.416   ,  60.408   ,\n",
       "        61.396   ,  63.379   ])"
      ]
     },
     "execution_count": 53,
     "metadata": {},
     "output_type": "execute_result"
    }
   ],
   "source": [
    "m = group['awrs']\n",
    "m[...]"
   ]
  },
  {
   "cell_type": "code",
   "execution_count": 45,
   "id": "6bdb5a79-cee2-47f6-9332-2848fe67b0ef",
   "metadata": {},
   "outputs": [
    {
     "data": {
      "text/plain": [
       "['material 1',\n",
       " 'material 2',\n",
       " 'material 3',\n",
       " 'material 4',\n",
       " 'material 5',\n",
       " 'material 6',\n",
       " 'material 7']"
      ]
     },
     "execution_count": 45,
     "metadata": {},
     "output_type": "execute_result"
    }
   ],
   "source": [
    "#looking at the other files now\n",
    "mats = h5['materials'] #not a dataset\n",
    "list(mats.keys())"
   ]
  },
  {
   "cell_type": "code",
   "execution_count": 48,
   "id": "3db55f52-9a9c-43a8-b972-8639cd2ea49f",
   "metadata": {},
   "outputs": [
    {
     "data": {
      "text/plain": [
       "['atom_density', 'name', 'nuclide_densities', 'nuclides']"
      ]
     },
     "execution_count": 48,
     "metadata": {},
     "output_type": "execute_result"
    }
   ],
   "source": []
  },
  {
   "cell_type": "code",
   "execution_count": null,
   "id": "9d94e4ec-8bdb-44b8-a031-5232f0aaa6c9",
   "metadata": {},
   "outputs": [],
   "source": []
  }
 ],
 "metadata": {
  "kernelspec": {
   "display_name": "Python 3 (ipykernel)",
   "language": "python",
   "name": "python3"
  },
  "language_info": {
   "codemirror_mode": {
    "name": "ipython",
    "version": 3
   },
   "file_extension": ".py",
   "mimetype": "text/x-python",
   "name": "python",
   "nbconvert_exporter": "python",
   "pygments_lexer": "ipython3",
   "version": "3.12.8"
  }
 },
 "nbformat": 4,
 "nbformat_minor": 5
}
